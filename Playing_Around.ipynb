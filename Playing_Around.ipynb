{
 "cells": [
  {
   "cell_type": "code",
   "execution_count": 1,
   "metadata": {},
   "outputs": [
    {
     "ename": "NameError",
     "evalue": "name 'pd' is not defined",
     "output_type": "error",
     "traceback": [
      "\u001b[0;31m---------------------------------------------------------------------------\u001b[0m",
      "\u001b[0;31mNameError\u001b[0m                                 Traceback (most recent call last)",
      "\u001b[0;32m<ipython-input-1-9ab386a78b7b>\u001b[0m in \u001b[0;36m<module>\u001b[0;34m()\u001b[0m\n\u001b[0;32m----> 1\u001b[0;31m \u001b[0mfile\u001b[0m \u001b[0;34m=\u001b[0m \u001b[0mpd\u001b[0m\u001b[0;34m.\u001b[0m\u001b[0mread_csv\u001b[0m\u001b[0;34m(\u001b[0m\u001b[0;34m'/Users/kellyduncan/GasBuddy/Crime.csv'\u001b[0m\u001b[0;34m)\u001b[0m\u001b[0;34m\u001b[0m\u001b[0m\n\u001b[0m",
      "\u001b[0;31mNameError\u001b[0m: name 'pd' is not defined"
     ]
    }
   ],
   "source": [
    "file = pd.read_csv('/Users/kellyduncan/GasBuddy/Crime.csv')"
   ]
  },
  {
   "cell_type": "code",
   "execution_count": 2,
   "metadata": {},
   "outputs": [],
   "source": [
    "import pandas as pd"
   ]
  },
  {
   "cell_type": "code",
   "execution_count": 3,
   "metadata": {},
   "outputs": [],
   "source": [
    "file = pd.read_csv('/Users/kellyduncan/GasBuddy/crime.csv')"
   ]
  },
  {
   "cell_type": "code",
   "execution_count": 4,
   "metadata": {},
   "outputs": [
    {
     "data": {
      "text/plain": [
       "INCIDENT_NUMBER         object\n",
       "OFFENSE_CODE             int64\n",
       "OFFENSE_CODE_GROUP      object\n",
       "OFFENSE_DESCRIPTION     object\n",
       "DISTRICT                object\n",
       "REPORTING_AREA          object\n",
       "SHOOTING                object\n",
       "OCCURRED_ON_DATE        object\n",
       "YEAR                     int64\n",
       "MONTH                    int64\n",
       "DAY_OF_WEEK             object\n",
       "HOUR                     int64\n",
       "UCR_PART                object\n",
       "STREET                  object\n",
       "Lat                    float64\n",
       "Long                   float64\n",
       "Location                object\n",
       "dtype: object"
      ]
     },
     "execution_count": 4,
     "metadata": {},
     "output_type": "execute_result"
    }
   ],
   "source": [
    "file.dtypes"
   ]
  },
  {
   "cell_type": "code",
   "execution_count": 7,
   "metadata": {},
   "outputs": [
    {
     "data": {
      "text/plain": [
       "array(['WARRANT ARREST', 'INVESTIGATE PERSON', 'VERBAL DISPUTE',\n",
       "       'INVESTIGATE PROPERTY', 'PROPERTY - LOST',\n",
       "       'M/V - LEAVING SCENE - PROPERTY DAMAGE', 'TOWED MOTOR VEHICLE',\n",
       "       'LARCENY ALL OTHERS', 'VANDALISM', 'SICK/INJURED/MEDICAL - PERSON',\n",
       "       'CHILD ENDANGERMENT', 'ASSAULT SIMPLE - BATTERY', 'MISSING PERSON',\n",
       "       'BURGLARY - RESIDENTIAL - FORCE', 'TRESPASSING',\n",
       "       'WEAPON - FIREARM - CARRYING / POSSESSING, ETC',\n",
       "       'LARCENY THEFT FROM BUILDING',\n",
       "       'DRUGS - POSS CLASS B - COCAINE, ETC.',\n",
       "       'FIRE REPORT - CAR, BRUSH, ETC.', 'VAL - OPERATING WITHOUT LICENSE',\n",
       "       'SEARCH WARRANT', 'ROBBERY - OTHER',\n",
       "       'LARCENY THEFT FROM MV - NON-ACCESSORY',\n",
       "       'M/V ACCIDENT - PERSONAL INJURY', 'M/V ACCIDENT - POLICE VEHICLE',\n",
       "       'M/V - LEAVING SCENE - PERSONAL INJURY',\n",
       "       'BURGLARY - COMMERICAL - FORCE',\n",
       "       'FIRE REPORT - HOUSE, BUILDING, ETC.', 'M/V ACCIDENT - OTHER',\n",
       "       'LARCENY PICK-POCKET',\n",
       "       'M/V ACCIDENT - INVOLVING \\xa0BICYCLE - INJURY', 'CHINS',\n",
       "       'DRUGS - POSS CLASS C - INTENT TO MFR DIST DISP',\n",
       "       'DRUGS - POSS CLASS D - INTENT TO MFR DIST DISP',\n",
       "       'VAL - OPERATING AFTER REV/SUSP.', 'THREATS TO DO BODILY HARM',\n",
       "       'M/V ACCIDENT - INVOLVING PEDESTRIAN - NO INJURY',\n",
       "       'LARCENY THEFT OF MV PARTS & ACCESSORIES', 'HARASSMENT',\n",
       "       'LARCENY SHOPLIFTING',\n",
       "       'DRUGS - POSS CLASS B - INTENT TO MFR DIST DISP',\n",
       "       'BURGLARY - RESIDENTIAL - ATTEMPT',\n",
       "       'ASSAULT - AGGRAVATED - BATTERY',\n",
       "       'VIOL. OF RESTRAINING ORDER W NO ARREST', 'AUTO THEFT',\n",
       "       'FRAUD - IMPERSONATION', 'SICK/INJURED/MEDICAL - POLICE',\n",
       "       'ROBBERY - STREET', 'FRAUD - CREDIT CARD / ATM FRAUD',\n",
       "       'FIREARM/WEAPON - FOUND OR CONFISCATED', 'LARCENY THEFT OF BICYCLE',\n",
       "       'DRUGS - SALE / MANUFACTURING',\n",
       "       'M/V ACCIDENT - PROPERTY \\xa0DAMAGE',\n",
       "       'DANGEROUS OR HAZARDOUS CONDITION',\n",
       "       'M/V ACCIDENT - OTHER CITY VEHICLE',\n",
       "       'BURGLARY - RESIDENTIAL - NO FORCE', 'DISTURBING THE PEACE',\n",
       "       'DISORDERLY CONDUCT', 'MISSING PERSON - LOCATED',\n",
       "       'LICENSE PREMISE VIOLATION', 'DRUGS - SICK ASSIST - HEROIN',\n",
       "       'M/V PLATES - LOST', 'ROBBERY - CAR JACKING', 'DRUGS - OTHER',\n",
       "       'DEATH INVESTIGATION', 'VAL - VIOLATION OF AUTO LAW - OTHER',\n",
       "       'DRUGS - POSS CLASS A - HEROIN, ETC. ',\n",
       "       'RECOVERED - MV RECOVERED IN BOSTON (STOLEN OUTSIDE BOSTON)',\n",
       "       'CHILD ENDANGERMENT (NO ASSAULT)',\n",
       "       'STOLEN PROPERTY - BUYING / RECEIVING / POSSESSING',\n",
       "       'PROPERTY - ACCIDENTAL DAMAGE',\n",
       "       'DRUGS - POSS CLASS A - INTENT TO MFR DIST DISP',\n",
       "       'ASSAULT - SIMPLE', 'FRAUD - FALSE PRETENSE / SCHEME',\n",
       "       'DRUGS - SICK ASSIST - OTHER NARCOTIC', 'ASSAULT - AGGRAVATED',\n",
       "       'VAL - OPERATING W/O AUTHORIZATION LAWFUL',\n",
       "       'DRUGS - CLASS B TRAFFICKING OVER 18 GRAMS',\n",
       "       'DRUGS - POSS CLASS E - INTENT TO MFR DIST DISP',\n",
       "       'WEAPON - FIREARM - OTHER VIOLATION',\n",
       "       'BURGLARY - COMMERICAL - NO FORCE', 'PROPERTY - MISSING',\n",
       "       'M/V ACCIDENT INVOLVING PEDESTRIAN - INJURY',\n",
       "       'FORGERY / COUNTERFEITING', 'ANIMAL INCIDENTS', 'GRAFFITI',\n",
       "       'EVADING FARE', 'PROPERTY - STOLEN THEN RECOVERED', 'HOME INVASION',\n",
       "       'DRUGS - POSS CLASS C', 'SUDDEN DEATH', 'STALKING', 'OTHER OFFENSE',\n",
       "       'ROBBERY - COMMERCIAL', 'PROPERTY - FOUND',\n",
       "       'LANDLORD - TENANT SERVICE', 'INVESTIGATION FOR ANOTHER AGENCY',\n",
       "       'MISSING PERSON - NOT REPORTED - LOCATED',\n",
       "       'BALLISTICS EVIDENCE/FOUND',\n",
       "       'DRUGS - SICK ASSIST - OTHER HARMFUL DRUG',\n",
       "       'LARCENY PURSE SNATCH - NO FORCE ', 'DRUGS - POSS CLASS D',\n",
       "       'AFFRAY', 'POSSESSION OF BURGLARIOUS TOOLS',\n",
       "       'BURGLARY - COMMERICAL - ATTEMPT',\n",
       "       'OPERATING UNDER THE INFLUENCE ALCOHOL',\n",
       "       'VAL - OPERATING UNREG/UNINS \\xa0CAR', 'DRUGS - POSSESSION',\n",
       "       'SERVICE TO OTHER PD INSIDE OF MA.',\n",
       "       'AUTO THEFT - MOTORCYCLE / SCOOTER', 'VIOLATION - CITY ORDINANCE',\n",
       "       'HARBOR INCIDENT / VIOLATION', 'DRUGS - POSS CLASS E',\n",
       "       'FUGITIVE FROM JUSTICE', 'ANIMAL CONTROL - DOG BITES - ETC.',\n",
       "       'INTIMIDATING WITNESS',\n",
       "       'WEAPON - OTHER - CARRYING / POSSESSING, ETC',\n",
       "       'LIQUOR - DRINKING IN PUBLIC', 'SUICIDE / SUICIDE ATTEMPT',\n",
       "       'NOISY PARTY/RADIO-NO ARREST', 'AIRCRAFT INCIDENTS', 'EMBEZZLEMENT',\n",
       "       'BOMB THREAT', 'BURGLARY - OTHER - NO FORCE',\n",
       "       'LIQUOR LAW VIOLATION', 'PROPERTY - LOST THEN LOCATED',\n",
       "       'PROTECTIVE CUSTODY / SAFEKEEPING', 'BURGLARY - OTHER - FORCE',\n",
       "       'VIOL. OF RESTRAINING ORDER W ARREST',\n",
       "       'M/V ACCIDENT - INVOLVING BICYCLE - NO INJURY',\n",
       "       'PROPERTY - CONCEALING LEASED',\n",
       "       'CONTRIBUTING TO DELINQUENCY OF MINOR', 'CRIMINAL HARASSMENT',\n",
       "       'FRAUD - WIRE', 'DEMONSTRATIONS/RIOT',\n",
       "       'DRUGS - POSSESSION OF DRUG PARAPHANALIA', 'ROBBERY - BANK',\n",
       "       'ANNOYING AND ACCOSTING',\n",
       "       'DRUGS - CLASS A TRAFFICKING OVER 18 GRAMS',\n",
       "       'MURDER, NON-NEGLIGIENT MANSLAUGHTER', 'FIRE REPORT/ALARM - FALSE',\n",
       "       'AUTO THEFT - LEASED/RENTED VEHICLE',\n",
       "       'OBSCENE MATERIALS - PORNOGRAPHY', 'CHILD ABANDONMENT (NO ASSAULT)',\n",
       "       'ROBBERY - HOME INVASION', 'KIDNAPPING - ENTICING OR ATTEMPTED',\n",
       "       'ARSON', 'WEAPON - OTHER - OTHER VIOLATION', 'ANIMAL ABUSE',\n",
       "       'OPERATING UNDER THE INFLUENCE DRUGS',\n",
       "       'INJURY BICYCLE NO M/V INVOLVED',\n",
       "       'SERVICE TO OTHER PD OUTSIDE OF MA.',\n",
       "       'EXPLOSIVES - TURNED IN OR FOUND',\n",
       "       'PRISONER ESCAPE / ESCAPE & RECAPTURE', 'TRUANCY / RUNAWAY',\n",
       "       'RECOVERED STOLEN PLATE', 'PROSTITUTION',\n",
       "       'PROSTITUTION - SOLICITING', 'BURGLARY - OTHER - ATTEMPT',\n",
       "       'KIDNAPPING/CUSTODIAL KIDNAPPING', 'REPORT AFFECTING OTHER DEPTS.',\n",
       "       'EXTORTION OR BLACKMAIL', 'BIOLOGICAL THREATS',\n",
       "       'NOISY PARTY/RADIO-ARREST', 'GAMBLING - BETTING / WAGERING',\n",
       "       'DRUGS - CONSP TO VIOL CONTROLLED SUBSTANCE',\n",
       "       'CONSPIRACY EXCEPT DRUG LAW',\n",
       "       'HUMAN TRAFFICKING - COMMERCIAL SEX ACTS', 'ABDUCTION - INTICING',\n",
       "       'PROSTITUTION - COMMON NIGHTWALKER',\n",
       "       'VIOLATION - CITY ORDINANCE CONSTRUCTION PERMIT', 'FRAUD - WELFARE',\n",
       "       'PRISONER - SUICIDE / SUICIDE ATTEMPT', 'CUSTODIAL KIDNAPPING',\n",
       "       'LARCENY THEFT FROM COIN-OP MACHINE',\n",
       "       'EXPLOSIVES - POSSESSION OR USE', 'OBSCENE PHONE CALLS',\n",
       "       'MANSLAUGHTER - NON-VEHICLE - NEGLIGENCE',\n",
       "       'WEAPON - FIREARM - SALE / TRAFFICKING',\n",
       "       'HUMAN TRAFFICKING - INVOLUNTARY SERVITUDE',\n",
       "       'PROSTITUTION - ASSISTING OR PROMOTING',\n",
       "       'DRUGS - CLASS D TRAFFICKING OVER 50 GRAMS',\n",
       "       'GATHERING CAUSING ANNOYANCE', 'VIOLATION - HAWKER AND PEDDLER',\n",
       "       'MANSLAUGHTER - VEHICLE - NEGLIGENCE', 'DRUGS - GLUE INHALATION',\n",
       "       'FIREARM/WEAPON - LOST',\n",
       "       'FIREARM/WEAPON - ACCIDENTAL INJURY / DEATH',\n",
       "       'KILLING OF FELON BY POLICE',\n",
       "       'LARCENY NON-ACCESSORY FROM VEH. $50 TO $199', 'COUNTERFEITING',\n",
       "       'ANNOYING AND ACCOSTIN', 'LARCENY BICYCLE $200 & OVER',\n",
       "       'DRUGS - POSS CLASS A - HEROIN, ETC.',\n",
       "       'LARCENY SHOPLIFTING UNDER $50', 'ASSAULT & BATTERY D/W - OTHER',\n",
       "       'A&B HANDS, FEET, ETC.  - MED. ATTENTION REQ.',\n",
       "       'DRUGS - POSS CLASS D - MARIJUANA, ETC.',\n",
       "       'LARCENY IN A BUILDING $200 & OVER', 'LARCENY OTHER $200 & OVER',\n",
       "       'FIREARM/WEAPON - CARRY - SELL - RENT',\n",
       "       'FIREARM/WEAPON - POSSESSION OF DANGEROUS',\n",
       "       'ASSAULT & BATTERY D/W - OTHER ON POLICE OFFICER',\n",
       "       'A&B ON POLICE OFFICER', 'ASSAULT D/W - OTHER', 'ASSAULT & BATTERY',\n",
       "       'AUTO THEFT - RECOVERED IN BY POLICE',\n",
       "       'ROBBERY ATTEMPT - KNIFE - BANK',\n",
       "       'ASSAULT D/W - KNIFE ON POLICE OFFICER',\n",
       "       'ROBBERY - UNARMED - STREET', 'LARCENY SHOPLIFTING $200 & OVER',\n",
       "       'FORGERY OR UTTERING', 'FRAUD - FALSE PRETENSE',\n",
       "       'AUTO THEFT LEASE/RENT VEHICLE', 'VIOLATION - RESTRAINING ORDER',\n",
       "       'LARCENY IN A BUILDING $50 TO $199', 'LARCENY OTHER $50 TO $199',\n",
       "       'AUTO THEFT - OUTSIDE - RECOVERED IN BOSTON',\n",
       "       'PROPERTY - RECEIVING STOLEN', 'ROBBERY - KNIFE - STREET',\n",
       "       'LARCENY NON-ACCESSORY FROM VEH. $200 & OVER',\n",
       "       'LARCENY NON-ACCESSORY FROM VEH. UNDER $50',\n",
       "       'DRUGS - POSS CLASS E INTENT TO MF DIST DISP',\n",
       "       'ASSAULT & BATTERY D/W - KNIFE', 'B&E NON-RESIDENCE DAY - NO FORCE',\n",
       "       'LARCENY IN A BUILDING UNDER $50', 'LARCENY OTHER UNDER $50',\n",
       "       'DISORDERLY PERSON', 'B&E RESIDENCE NIGHT - ATTEMPT FORCE',\n",
       "       'CHILD ABUSE', 'AUTO THEFT OTHER', 'FRAUDS - ALL OTHER',\n",
       "       'B&E RESIDENCE DAY - NO PROP TAKEN',\n",
       "       'LARCENY SHOPLIFTING $50 TO $199', 'ROBBERY - UNARMED - RESIDENCE',\n",
       "       'B&E NON-RESIDENCE DAY - FORCIBLE',\n",
       "       'B&E NON-RESIDENCE DAY - NO PROP TAKEN',\n",
       "       'B&E RESIDENCE DAY - NO FORCE', 'ROBBERY - UNARMED - BUSINESS',\n",
       "       'B&E NON-RESIDENCE NIGHT - FORCE', 'PROSTITUTE - COMMON NIGHTWALKER'], dtype=object)"
      ]
     },
     "execution_count": 7,
     "metadata": {},
     "output_type": "execute_result"
    }
   ],
   "source": [
    "file.OFFENSE_DESCRIPTION.unique()"
   ]
  },
  {
   "cell_type": "code",
   "execution_count": 10,
   "metadata": {},
   "outputs": [
    {
     "data": {
      "text/plain": [
       "B2     37397\n",
       "C11    31869\n",
       "D4     31147\n",
       "A1     26367\n",
       "B3     25652\n",
       "Name: DISTRICT, dtype: int64"
      ]
     },
     "execution_count": 10,
     "metadata": {},
     "output_type": "execute_result"
    }
   ],
   "source": [
    "file.DISTRICT.value_counts().head()"
   ]
  },
  {
   "cell_type": "code",
   "execution_count": 11,
   "metadata": {},
   "outputs": [
    {
     "data": {
      "text/plain": [
       "DISTRICT  REPORTING_AREA  YEAR\n",
       "A1                        2015     162\n",
       "                          2016    1134\n",
       "                          2017    1148\n",
       "          000             2015       1\n",
       "          100             2015      54\n",
       "                          2016     147\n",
       "                          2017      76\n",
       "          101             2015      74\n",
       "                          2016     160\n",
       "                          2017     134\n",
       "          102             2015     183\n",
       "                          2016     348\n",
       "                          2017     329\n",
       "          103             2015      90\n",
       "                          2016     174\n",
       "                          2017     134\n",
       "          104             2015      57\n",
       "                          2016      95\n",
       "                          2017      83\n",
       "          105             2015     115\n",
       "                          2016     296\n",
       "                          2017     244\n",
       "          106             2015      57\n",
       "                          2016      85\n",
       "                          2017      58\n",
       "          107             2015      17\n",
       "                          2016      31\n",
       "                          2017      25\n",
       "          108             2015      43\n",
       "                          2016      62\n",
       "                                  ... \n",
       "E5        744             2017       4\n",
       "          745             2015       4\n",
       "                          2016       1\n",
       "          746             2015       9\n",
       "                          2016       4\n",
       "                          2017       8\n",
       "          747             2015      15\n",
       "                          2016      11\n",
       "                          2017       9\n",
       "          748             2015      43\n",
       "                          2016      68\n",
       "                          2017      45\n",
       "          821             2015      21\n",
       "                          2016      50\n",
       "                          2017      30\n",
       "          822             2015     147\n",
       "                          2016     262\n",
       "                          2017     239\n",
       "          825             2015       2\n",
       "                          2016       2\n",
       "                          2017       3\n",
       "          910             2015      26\n",
       "                          2016      33\n",
       "                          2017      44\n",
       "          932             2015       7\n",
       "                          2016       6\n",
       "                          2017       3\n",
       "          941             2015      40\n",
       "                          2016      98\n",
       "                          2017      83\n",
       "Name: INCIDENT_NUMBER, Length: 3124, dtype: int64"
      ]
     },
     "execution_count": 11,
     "metadata": {},
     "output_type": "execute_result"
    }
   ],
   "source": [
    "file.groupby(['DISTRICT','REPORTING_AREA','YEAR']).INCIDENT_NUMBER.count()"
   ]
  },
  {
   "cell_type": "code",
   "execution_count": 12,
   "metadata": {},
   "outputs": [
    {
     "data": {
      "text/plain": [
       "DISTRICT  YEAR\n",
       "A1        2015     6032\n",
       "          2016    11032\n",
       "          2017     9303\n",
       "A15       2015     1010\n",
       "          2016     1826\n",
       "          2017     1661\n",
       "A7        2015     2421\n",
       "          2016     4125\n",
       "          2017     3528\n",
       "B2        2015     8682\n",
       "          2016    15745\n",
       "          2017    12970\n",
       "B3        2015     5596\n",
       "          2016    11006\n",
       "          2017     9050\n",
       "C11       2015     7318\n",
       "          2016    13557\n",
       "          2017    10994\n",
       "C6        2015     3937\n",
       "          2016     7069\n",
       "          2017     5994\n",
       "D14       2015     3276\n",
       "          2016     6266\n",
       "          2017     5359\n",
       "D4        2015     7222\n",
       "          2016    12938\n",
       "          2017    10987\n",
       "E13       2015     2800\n",
       "          2016     5520\n",
       "          2017     4527\n",
       "E18       2015     2737\n",
       "          2016     5181\n",
       "          2017     4540\n",
       "E5        2015     2158\n",
       "          2016     4007\n",
       "          2017     3483\n",
       "Name: INCIDENT_NUMBER, dtype: int64"
      ]
     },
     "execution_count": 12,
     "metadata": {},
     "output_type": "execute_result"
    }
   ],
   "source": [
    "file.groupby(['DISTRICT','YEAR']).INCIDENT_NUMBER.count()"
   ]
  },
  {
   "cell_type": "code",
   "execution_count": 28,
   "metadata": {},
   "outputs": [
    {
     "data": {
      "text/plain": [
       "DISTRICT  YEAR\n",
       "A1        2015    0.083057\n",
       "          2016    0.106327\n",
       "          2017    0.112759\n",
       "A15       2015    0.122772\n",
       "          2016    0.131435\n",
       "          2017    0.134256\n",
       "A7        2015    0.105741\n",
       "          2016    0.123879\n",
       "          2017    0.138322\n",
       "B2        2015    0.073370\n",
       "          2016    0.083455\n",
       "          2017    0.098766\n",
       "B3        2015    0.064153\n",
       "          2016    0.075868\n",
       "          2017    0.086961\n",
       "C11       2015    0.090325\n",
       "          2016    0.094711\n",
       "          2017    0.113698\n",
       "C6        2015    0.121158\n",
       "          2016    0.142029\n",
       "          2017    0.140474\n",
       "D14       2015    0.138584\n",
       "          2016    0.154165\n",
       "          2017    0.168128\n",
       "D4        2015    0.101772\n",
       "          2016    0.111996\n",
       "          2017    0.117229\n",
       "E13       2015    0.095000\n",
       "          2016    0.121739\n",
       "          2017    0.142037\n",
       "E18       2015    0.086226\n",
       "          2016    0.111948\n",
       "          2017    0.113877\n",
       "E5        2015    0.098703\n",
       "          2016    0.118043\n",
       "          2017    0.130635\n",
       "Name: INCIDENT_NUMBER, dtype: float64"
      ]
     },
     "execution_count": 28,
     "metadata": {},
     "output_type": "execute_result"
    }
   ],
   "source": [
    "(file.groupby(['DISTRICT','YEAR']).INCIDENT_NUMBER.count()-file[~file.OFFENSE_DESCRIPTION.str.contains(\"TOWED MOTOR VEHICLE|SICK/INJURED/MEDICAL - PERSON|M/V ACCIDENT - INVOLVING \\xa0BICYCLE - INJURY|OBSCENE PHONE CALLS|INJURY BICYCLE NO M/V INVOLVED|M/V ACCIDENT - INVOLVING BICYCLE - NO INJURY|PROPERTY - LOST THEN LOCATED|M/V PLATES - LOST|M/V ACCIDENT INVOLVING PEDESTRIAN - INJURY|M/V ACCIDENT - INVOLVING PEDESTRIAN - NO INJURY|SICK/INJURED/MEDICAL - POLICE\")].groupby(['DISTRICT','YEAR']).INCIDENT_NUMBER.count())/file.groupby(['DISTRICT','YEAR']).INCIDENT_NUMBER.count()"
   ]
  },
  {
   "cell_type": "code",
   "execution_count": 24,
   "metadata": {},
   "outputs": [
    {
     "data": {
      "text/plain": [
       "array([nan, 'Y'], dtype=object)"
      ]
     },
     "execution_count": 24,
     "metadata": {},
     "output_type": "execute_result"
    }
   ],
   "source": [
    "file.SHOOTING.unique()"
   ]
  },
  {
   "cell_type": "code",
   "execution_count": 29,
   "metadata": {},
   "outputs": [
    {
     "data": {
      "text/plain": [
       "DISTRICT  YEAR\n",
       "A1        2015    0.016578\n",
       "          2016    0.018129\n",
       "          2017    0.064495\n",
       "A15       2015    0.099010\n",
       "          2016    0.054765\n",
       "          2017    0.060205\n",
       "A7        2015    0.082610\n",
       "          2016    0.145455\n",
       "          2017    0.028345\n",
       "B2        2015    0.840820\n",
       "          2016    0.666878\n",
       "          2017    0.578258\n",
       "B3        2015    0.500357\n",
       "          2016    0.654189\n",
       "          2017    0.762431\n",
       "C11       2015    0.355288\n",
       "          2016    0.339308\n",
       "          2017    0.691286\n",
       "C6        2015    0.101600\n",
       "          2016    0.113170\n",
       "          2017    0.150150\n",
       "D14       2015    0.213675\n",
       "          2016    0.047877\n",
       "          2017         NaN\n",
       "D4        2015    0.152312\n",
       "          2016    0.061833\n",
       "          2017    0.127423\n",
       "E13       2015    0.464286\n",
       "          2016    0.307971\n",
       "          2017    0.309256\n",
       "E18       2015    0.219218\n",
       "          2016    0.154410\n",
       "          2017    0.176211\n",
       "E5        2015    0.509731\n",
       "          2016    0.024956\n",
       "          2017    0.028711\n",
       "Name: INCIDENT_NUMBER, dtype: float64"
      ]
     },
     "execution_count": 29,
     "metadata": {},
     "output_type": "execute_result"
    }
   ],
   "source": [
    "file[file.SHOOTING=='Y'].groupby(['DISTRICT','YEAR']).INCIDENT_NUMBER.count()/file.groupby(['DISTRICT','YEAR']).INCIDENT_NUMBER.count()*100"
   ]
  },
  {
   "cell_type": "code",
   "execution_count": null,
   "metadata": {},
   "outputs": [],
   "source": []
  }
 ],
 "metadata": {
  "kernelspec": {
   "display_name": "Python 2",
   "language": "python",
   "name": "python2"
  },
  "language_info": {
   "codemirror_mode": {
    "name": "ipython",
    "version": 2
   },
   "file_extension": ".py",
   "mimetype": "text/x-python",
   "name": "python",
   "nbconvert_exporter": "python",
   "pygments_lexer": "ipython2",
   "version": "2.7.6"
  }
 },
 "nbformat": 4,
 "nbformat_minor": 2
}
